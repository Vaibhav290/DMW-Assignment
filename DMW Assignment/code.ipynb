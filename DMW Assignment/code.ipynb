{
  "metadata": {
    "language_info": {
      "codemirror_mode": {
        "name": "python",
        "version": 3
      },
      "file_extension": ".py",
      "mimetype": "text/x-python",
      "name": "python",
      "nbconvert_exporter": "python",
      "pygments_lexer": "ipython3",
      "version": "3.8"
    },
    "kernelspec": {
      "name": "python",
      "display_name": "Python (Pyodide)",
      "language": "python"
    }
  },
  "nbformat_minor": 4,
  "nbformat": 4,
  "cells": [
    {
      "cell_type": "code",
      "source": "#import required libraries\nimport pandas as pd\nimport numpy as np\nimport matplotlib.pyplot as plt",
      "metadata": {
        "trusted": true
      },
      "execution_count": 1,
      "outputs": []
    },
    {
      "cell_type": "code",
      "source": "df=pd.read_csv('dataset.csv')",
      "metadata": {
        "trusted": true
      },
      "execution_count": 3,
      "outputs": []
    },
    {
      "cell_type": "code",
      "source": "print(df)",
      "metadata": {
        "trusted": true
      },
      "execution_count": 4,
      "outputs": [
        {
          "name": "stdout",
          "text": "                                                                                    diture  \\\n2018 N   Administrative and Support Services h_200+            Operating profit before tax   \n                                             h_200+                           Total assets   \n                                             h_200+                  Fixed tangible assets   \n                                             i_Industry_Total                Activity unit   \n                                             i_Industry_Total       Rolling mean employees   \n...                                                                                    ...   \n2021 all All Industries                      j_Grand_Total                    Total income   \n                                             j_Grand_Total               Total expenditure   \n                                             j_Grand_Total     Operating profit before tax   \n                                             j_Grand_Total                    Total assets   \n                                             j_Grand_Total           Fixed tangible assets   \n\n                                                                  3582  \\\n2018 N   Administrative and Support Services h_200+                227   \n                                             h_200+               2162   \n                                             h_200+                847   \n                                             i_Industry_Total    18012   \n                                             i_Industry_Total   119028   \n...                                                                ...   \n2021 all All Industries                      j_Grand_Total      757504   \n                                             j_Grand_Total      654404   \n                                             j_Grand_Total       85116   \n                                             j_Grand_Total     2512677   \n                                             j_Grand_Total      591351   \n\n                                                               DOLLARS(millions)  \n2018 N   Administrative and Support Services h_200+            DOLLARS(millions)  \n                                             h_200+            DOLLARS(millions)  \n                                             h_200+            DOLLARS(millions)  \n                                             i_Industry_Total              COUNT  \n                                             i_Industry_Total              COUNT  \n...                                                                          ...  \n2021 all All Industries                      j_Grand_Total     DOLLARS(millions)  \n                                             j_Grand_Total     DOLLARS(millions)  \n                                             j_Grand_Total     DOLLARS(millions)  \n                                             j_Grand_Total     DOLLARS(millions)  \n                                             j_Grand_Total     DOLLARS(millions)  \n\n[5070 rows x 3 columns]\n",
          "output_type": "stream"
        }
      ]
    },
    {
      "cell_type": "code",
      "source": "df.describe()",
      "metadata": {
        "trusted": true
      },
      "execution_count": 5,
      "outputs": [
        {
          "execution_count": 5,
          "output_type": "execute_result",
          "data": {
            "text/plain": "                             diture  3582  DOLLARS(millions)\ncount                          5070  5070               5070\nunique                            9  3268                  2\ntop     Operating profit before tax     C  DOLLARS(millions)\nfreq                            564    68               3944",
            "text/html": "<div>\n<style scoped>\n    .dataframe tbody tr th:only-of-type {\n        vertical-align: middle;\n    }\n\n    .dataframe tbody tr th {\n        vertical-align: top;\n    }\n\n    .dataframe thead th {\n        text-align: right;\n    }\n</style>\n<table border=\"1\" class=\"dataframe\">\n  <thead>\n    <tr style=\"text-align: right;\">\n      <th></th>\n      <th>diture</th>\n      <th>3582</th>\n      <th>DOLLARS(millions)</th>\n    </tr>\n  </thead>\n  <tbody>\n    <tr>\n      <th>count</th>\n      <td>5070</td>\n      <td>5070</td>\n      <td>5070</td>\n    </tr>\n    <tr>\n      <th>unique</th>\n      <td>9</td>\n      <td>3268</td>\n      <td>2</td>\n    </tr>\n    <tr>\n      <th>top</th>\n      <td>Operating profit before tax</td>\n      <td>C</td>\n      <td>DOLLARS(millions)</td>\n    </tr>\n    <tr>\n      <th>freq</th>\n      <td>564</td>\n      <td>68</td>\n      <td>3944</td>\n    </tr>\n  </tbody>\n</table>\n</div>"
          },
          "metadata": {}
        }
      ]
    },
    {
      "cell_type": "code",
      "source": "\ndf.info()",
      "metadata": {
        "trusted": true
      },
      "execution_count": 6,
      "outputs": [
        {
          "name": "stdout",
          "text": "<class 'pandas.core.frame.DataFrame'>\nMultiIndex: 5070 entries, (2018, 'N', 'Administrative and Support Services', 'h_200+') to (2021, 'all', 'All Industries', 'j_Grand_Total')\nData columns (total 3 columns):\n #   Column             Non-Null Count  Dtype \n---  ------             --------------  ----- \n 0   diture             5070 non-null   object\n 1   3582               5070 non-null   object\n 2   DOLLARS(millions)  5070 non-null   object\ndtypes: object(3)\nmemory usage: 80.3+ KB\n",
          "output_type": "stream"
        }
      ]
    },
    {
      "cell_type": "code",
      "source": "#displays first five rows of the dataset\ndf.head()",
      "metadata": {
        "trusted": true
      },
      "execution_count": 7,
      "outputs": [
        {
          "execution_count": 7,
          "output_type": "execute_result",
          "data": {
            "text/plain": "                                                                                  diture  \\\n2018 N Administrative and Support Services h_200+            Operating profit before tax   \n                                           h_200+                           Total assets   \n                                           h_200+                  Fixed tangible assets   \n                                           i_Industry_Total                Activity unit   \n                                           i_Industry_Total       Rolling mean employees   \n\n                                                               3582  \\\n2018 N Administrative and Support Services h_200+               227   \n                                           h_200+              2162   \n                                           h_200+               847   \n                                           i_Industry_Total   18012   \n                                           i_Industry_Total  119028   \n\n                                                             DOLLARS(millions)  \n2018 N Administrative and Support Services h_200+            DOLLARS(millions)  \n                                           h_200+            DOLLARS(millions)  \n                                           h_200+            DOLLARS(millions)  \n                                           i_Industry_Total              COUNT  \n                                           i_Industry_Total              COUNT  ",
            "text/html": "<div>\n<style scoped>\n    .dataframe tbody tr th:only-of-type {\n        vertical-align: middle;\n    }\n\n    .dataframe tbody tr th {\n        vertical-align: top;\n    }\n\n    .dataframe thead th {\n        text-align: right;\n    }\n</style>\n<table border=\"1\" class=\"dataframe\">\n  <thead>\n    <tr style=\"text-align: right;\">\n      <th></th>\n      <th></th>\n      <th></th>\n      <th></th>\n      <th>diture</th>\n      <th>3582</th>\n      <th>DOLLARS(millions)</th>\n    </tr>\n  </thead>\n  <tbody>\n    <tr>\n      <th rowspan=\"5\" valign=\"top\">2018</th>\n      <th rowspan=\"5\" valign=\"top\">N</th>\n      <th rowspan=\"5\" valign=\"top\">Administrative and Support Services</th>\n      <th>h_200+</th>\n      <td>Operating profit before tax</td>\n      <td>227</td>\n      <td>DOLLARS(millions)</td>\n    </tr>\n    <tr>\n      <th>h_200+</th>\n      <td>Total assets</td>\n      <td>2162</td>\n      <td>DOLLARS(millions)</td>\n    </tr>\n    <tr>\n      <th>h_200+</th>\n      <td>Fixed tangible assets</td>\n      <td>847</td>\n      <td>DOLLARS(millions)</td>\n    </tr>\n    <tr>\n      <th>i_Industry_Total</th>\n      <td>Activity unit</td>\n      <td>18012</td>\n      <td>COUNT</td>\n    </tr>\n    <tr>\n      <th>i_Industry_Total</th>\n      <td>Rolling mean employees</td>\n      <td>119028</td>\n      <td>COUNT</td>\n    </tr>\n  </tbody>\n</table>\n</div>"
          },
          "metadata": {}
        }
      ]
    },
    {
      "cell_type": "code",
      "source": "#cleaning\ndf.isnull().sum()",
      "metadata": {
        "trusted": true
      },
      "execution_count": 8,
      "outputs": [
        {
          "execution_count": 8,
          "output_type": "execute_result",
          "data": {
            "text/plain": "diture               0\n3582                 0\nDOLLARS(millions)    0\ndtype: int64"
          },
          "metadata": {}
        }
      ]
    },
    {
      "cell_type": "code",
      "source": "#to replace missing values\ndata1=df.fillna(method=\"ffill\")",
      "metadata": {
        "trusted": true
      },
      "execution_count": 9,
      "outputs": []
    },
    {
      "cell_type": "code",
      "source": "#To check whether the valuies are replaced\ndata1.isnull().sum()",
      "metadata": {
        "trusted": true
      },
      "execution_count": 10,
      "outputs": [
        {
          "execution_count": 10,
          "output_type": "execute_result",
          "data": {
            "text/plain": "diture               0\n3582                 0\nDOLLARS(millions)    0\ndtype: int64"
          },
          "metadata": {}
        }
      ]
    },
    {
      "cell_type": "code",
      "source": "df.head()",
      "metadata": {
        "trusted": true
      },
      "execution_count": 11,
      "outputs": [
        {
          "execution_count": 11,
          "output_type": "execute_result",
          "data": {
            "text/plain": "                                                                                  diture  \\\n2018 N Administrative and Support Services h_200+            Operating profit before tax   \n                                           h_200+                           Total assets   \n                                           h_200+                  Fixed tangible assets   \n                                           i_Industry_Total                Activity unit   \n                                           i_Industry_Total       Rolling mean employees   \n\n                                                               3582  \\\n2018 N Administrative and Support Services h_200+               227   \n                                           h_200+              2162   \n                                           h_200+               847   \n                                           i_Industry_Total   18012   \n                                           i_Industry_Total  119028   \n\n                                                             DOLLARS(millions)  \n2018 N Administrative and Support Services h_200+            DOLLARS(millions)  \n                                           h_200+            DOLLARS(millions)  \n                                           h_200+            DOLLARS(millions)  \n                                           i_Industry_Total              COUNT  \n                                           i_Industry_Total              COUNT  ",
            "text/html": "<div>\n<style scoped>\n    .dataframe tbody tr th:only-of-type {\n        vertical-align: middle;\n    }\n\n    .dataframe tbody tr th {\n        vertical-align: top;\n    }\n\n    .dataframe thead th {\n        text-align: right;\n    }\n</style>\n<table border=\"1\" class=\"dataframe\">\n  <thead>\n    <tr style=\"text-align: right;\">\n      <th></th>\n      <th></th>\n      <th></th>\n      <th></th>\n      <th>diture</th>\n      <th>3582</th>\n      <th>DOLLARS(millions)</th>\n    </tr>\n  </thead>\n  <tbody>\n    <tr>\n      <th rowspan=\"5\" valign=\"top\">2018</th>\n      <th rowspan=\"5\" valign=\"top\">N</th>\n      <th rowspan=\"5\" valign=\"top\">Administrative and Support Services</th>\n      <th>h_200+</th>\n      <td>Operating profit before tax</td>\n      <td>227</td>\n      <td>DOLLARS(millions)</td>\n    </tr>\n    <tr>\n      <th>h_200+</th>\n      <td>Total assets</td>\n      <td>2162</td>\n      <td>DOLLARS(millions)</td>\n    </tr>\n    <tr>\n      <th>h_200+</th>\n      <td>Fixed tangible assets</td>\n      <td>847</td>\n      <td>DOLLARS(millions)</td>\n    </tr>\n    <tr>\n      <th>i_Industry_Total</th>\n      <td>Activity unit</td>\n      <td>18012</td>\n      <td>COUNT</td>\n    </tr>\n    <tr>\n      <th>i_Industry_Total</th>\n      <td>Rolling mean employees</td>\n      <td>119028</td>\n      <td>COUNT</td>\n    </tr>\n  </tbody>\n</table>\n</div>"
          },
          "metadata": {}
        }
      ]
    },
    {
      "cell_type": "code",
      "source": "#reduction\n\ncols=['diture','3582']\ndf = df.drop(cols, axis=1)",
      "metadata": {
        "trusted": true
      },
      "execution_count": 12,
      "outputs": []
    },
    {
      "cell_type": "code",
      "source": "print(df)",
      "metadata": {
        "trusted": true
      },
      "execution_count": 13,
      "outputs": [
        {
          "name": "stdout",
          "text": "                                                               DOLLARS(millions)\n2018 N   Administrative and Support Services h_200+            DOLLARS(millions)\n                                             h_200+            DOLLARS(millions)\n                                             h_200+            DOLLARS(millions)\n                                             i_Industry_Total              COUNT\n                                             i_Industry_Total              COUNT\n...                                                                          ...\n2021 all All Industries                      j_Grand_Total     DOLLARS(millions)\n                                             j_Grand_Total     DOLLARS(millions)\n                                             j_Grand_Total     DOLLARS(millions)\n                                             j_Grand_Total     DOLLARS(millions)\n                                             j_Grand_Total     DOLLARS(millions)\n\n[5070 rows x 1 columns]\n",
          "output_type": "stream"
        }
      ]
    },
    {
      "cell_type": "code",
      "source": "#Transformation\n\ndata1.head()",
      "metadata": {
        "trusted": true
      },
      "execution_count": 14,
      "outputs": [
        {
          "execution_count": 14,
          "output_type": "execute_result",
          "data": {
            "text/plain": "                                                                                  diture  \\\n2018 N Administrative and Support Services h_200+            Operating profit before tax   \n                                           h_200+                           Total assets   \n                                           h_200+                  Fixed tangible assets   \n                                           i_Industry_Total                Activity unit   \n                                           i_Industry_Total       Rolling mean employees   \n\n                                                               3582  \\\n2018 N Administrative and Support Services h_200+               227   \n                                           h_200+              2162   \n                                           h_200+               847   \n                                           i_Industry_Total   18012   \n                                           i_Industry_Total  119028   \n\n                                                             DOLLARS(millions)  \n2018 N Administrative and Support Services h_200+            DOLLARS(millions)  \n                                           h_200+            DOLLARS(millions)  \n                                           h_200+            DOLLARS(millions)  \n                                           i_Industry_Total              COUNT  \n                                           i_Industry_Total              COUNT  ",
            "text/html": "<div>\n<style scoped>\n    .dataframe tbody tr th:only-of-type {\n        vertical-align: middle;\n    }\n\n    .dataframe tbody tr th {\n        vertical-align: top;\n    }\n\n    .dataframe thead th {\n        text-align: right;\n    }\n</style>\n<table border=\"1\" class=\"dataframe\">\n  <thead>\n    <tr style=\"text-align: right;\">\n      <th></th>\n      <th></th>\n      <th></th>\n      <th></th>\n      <th>diture</th>\n      <th>3582</th>\n      <th>DOLLARS(millions)</th>\n    </tr>\n  </thead>\n  <tbody>\n    <tr>\n      <th rowspan=\"5\" valign=\"top\">2018</th>\n      <th rowspan=\"5\" valign=\"top\">N</th>\n      <th rowspan=\"5\" valign=\"top\">Administrative and Support Services</th>\n      <th>h_200+</th>\n      <td>Operating profit before tax</td>\n      <td>227</td>\n      <td>DOLLARS(millions)</td>\n    </tr>\n    <tr>\n      <th>h_200+</th>\n      <td>Total assets</td>\n      <td>2162</td>\n      <td>DOLLARS(millions)</td>\n    </tr>\n    <tr>\n      <th>h_200+</th>\n      <td>Fixed tangible assets</td>\n      <td>847</td>\n      <td>DOLLARS(millions)</td>\n    </tr>\n    <tr>\n      <th>i_Industry_Total</th>\n      <td>Activity unit</td>\n      <td>18012</td>\n      <td>COUNT</td>\n    </tr>\n    <tr>\n      <th>i_Industry_Total</th>\n      <td>Rolling mean employees</td>\n      <td>119028</td>\n      <td>COUNT</td>\n    </tr>\n  </tbody>\n</table>\n</div>"
          },
          "metadata": {}
        }
      ]
    },
    {
      "cell_type": "code",
      "source": "dummy=pd.get_dummies(data1['All'])",
      "metadata": {
        "trusted": true
      },
      "execution_count": 15,
      "outputs": [
        {
          "ename": "<class 'KeyError'>",
          "evalue": "'All'",
          "traceback": [
            "\u001b[0;31m---------------------------------------------------------------------------\u001b[0m",
            "\u001b[0;31mKeyError\u001b[0m                                  Traceback (most recent call last)",
            "File \u001b[0;32m/lib/python3.10/site-packages/pandas/core/indexes/base.py:3621\u001b[0m, in \u001b[0;36mIndex.get_loc\u001b[0;34m(self, key, method, tolerance)\u001b[0m\n\u001b[1;32m   3620\u001b[0m \u001b[38;5;28;01mtry\u001b[39;00m:\n\u001b[0;32m-> 3621\u001b[0m     \u001b[38;5;28;01mreturn\u001b[39;00m \u001b[38;5;28;43mself\u001b[39;49m\u001b[38;5;241;43m.\u001b[39;49m\u001b[43m_engine\u001b[49m\u001b[38;5;241;43m.\u001b[39;49m\u001b[43mget_loc\u001b[49m\u001b[43m(\u001b[49m\u001b[43mcasted_key\u001b[49m\u001b[43m)\u001b[49m\n\u001b[1;32m   3622\u001b[0m \u001b[38;5;28;01mexcept\u001b[39;00m \u001b[38;5;167;01mKeyError\u001b[39;00m \u001b[38;5;28;01mas\u001b[39;00m err:\n",
            "File \u001b[0;32m/lib/python3.10/site-packages/pandas/_libs/index.pyx:136\u001b[0m, in \u001b[0;36mpandas._libs.index.IndexEngine.get_loc\u001b[0;34m()\u001b[0m\n",
            "File \u001b[0;32m/lib/python3.10/site-packages/pandas/_libs/index.pyx:163\u001b[0m, in \u001b[0;36mpandas._libs.index.IndexEngine.get_loc\u001b[0;34m()\u001b[0m\n",
            "File \u001b[0;32mpandas/_libs/hashtable_class_helper.pxi:5198\u001b[0m, in \u001b[0;36mpandas._libs.hashtable.PyObjectHashTable.get_item\u001b[0;34m()\u001b[0m\n",
            "File \u001b[0;32mpandas/_libs/hashtable_class_helper.pxi:5206\u001b[0m, in \u001b[0;36mpandas._libs.hashtable.PyObjectHashTable.get_item\u001b[0;34m()\u001b[0m\n",
            "\u001b[0;31mKeyError\u001b[0m: 'All'",
            "\nThe above exception was the direct cause of the following exception:\n",
            "\u001b[0;31mKeyError\u001b[0m                                  Traceback (most recent call last)",
            "Cell \u001b[0;32mIn [15], line 1\u001b[0m\n\u001b[0;32m----> 1\u001b[0m dummy\u001b[38;5;241m=\u001b[39mpd\u001b[38;5;241m.\u001b[39mget_dummies(\u001b[43mdata1\u001b[49m\u001b[43m[\u001b[49m\u001b[38;5;124;43m'\u001b[39;49m\u001b[38;5;124;43mAll\u001b[39;49m\u001b[38;5;124;43m'\u001b[39;49m\u001b[43m]\u001b[49m)\n",
            "File \u001b[0;32m/lib/python3.10/site-packages/pandas/core/frame.py:3505\u001b[0m, in \u001b[0;36mDataFrame.__getitem__\u001b[0;34m(self, key)\u001b[0m\n\u001b[1;32m   3503\u001b[0m \u001b[38;5;28;01mif\u001b[39;00m \u001b[38;5;28mself\u001b[39m\u001b[38;5;241m.\u001b[39mcolumns\u001b[38;5;241m.\u001b[39mnlevels \u001b[38;5;241m>\u001b[39m \u001b[38;5;241m1\u001b[39m:\n\u001b[1;32m   3504\u001b[0m     \u001b[38;5;28;01mreturn\u001b[39;00m \u001b[38;5;28mself\u001b[39m\u001b[38;5;241m.\u001b[39m_getitem_multilevel(key)\n\u001b[0;32m-> 3505\u001b[0m indexer \u001b[38;5;241m=\u001b[39m \u001b[38;5;28;43mself\u001b[39;49m\u001b[38;5;241;43m.\u001b[39;49m\u001b[43mcolumns\u001b[49m\u001b[38;5;241;43m.\u001b[39;49m\u001b[43mget_loc\u001b[49m\u001b[43m(\u001b[49m\u001b[43mkey\u001b[49m\u001b[43m)\u001b[49m\n\u001b[1;32m   3506\u001b[0m \u001b[38;5;28;01mif\u001b[39;00m is_integer(indexer):\n\u001b[1;32m   3507\u001b[0m     indexer \u001b[38;5;241m=\u001b[39m [indexer]\n",
            "File \u001b[0;32m/lib/python3.10/site-packages/pandas/core/indexes/base.py:3623\u001b[0m, in \u001b[0;36mIndex.get_loc\u001b[0;34m(self, key, method, tolerance)\u001b[0m\n\u001b[1;32m   3621\u001b[0m     \u001b[38;5;28;01mreturn\u001b[39;00m \u001b[38;5;28mself\u001b[39m\u001b[38;5;241m.\u001b[39m_engine\u001b[38;5;241m.\u001b[39mget_loc(casted_key)\n\u001b[1;32m   3622\u001b[0m \u001b[38;5;28;01mexcept\u001b[39;00m \u001b[38;5;167;01mKeyError\u001b[39;00m \u001b[38;5;28;01mas\u001b[39;00m err:\n\u001b[0;32m-> 3623\u001b[0m     \u001b[38;5;28;01mraise\u001b[39;00m \u001b[38;5;167;01mKeyError\u001b[39;00m(key) \u001b[38;5;28;01mfrom\u001b[39;00m \u001b[38;5;21;01merr\u001b[39;00m\n\u001b[1;32m   3624\u001b[0m \u001b[38;5;28;01mexcept\u001b[39;00m \u001b[38;5;167;01mTypeError\u001b[39;00m:\n\u001b[1;32m   3625\u001b[0m     \u001b[38;5;66;03m# If we have a listlike key, _check_indexing_error will raise\u001b[39;00m\n\u001b[1;32m   3626\u001b[0m     \u001b[38;5;66;03m#  InvalidIndexError. Otherwise we fall through and re-raise\u001b[39;00m\n\u001b[1;32m   3627\u001b[0m     \u001b[38;5;66;03m#  the TypeError.\u001b[39;00m\n\u001b[1;32m   3628\u001b[0m     \u001b[38;5;28mself\u001b[39m\u001b[38;5;241m.\u001b[39m_check_indexing_error(key)\n",
            "\u001b[0;31mKeyError\u001b[0m: 'All'"
          ],
          "output_type": "error"
        }
      ]
    },
    {
      "cell_type": "code",
      "source": "dummy=pd.get_dummies(data1['diture'])",
      "metadata": {
        "trusted": true
      },
      "execution_count": 16,
      "outputs": []
    },
    {
      "cell_type": "code",
      "source": "dummy",
      "metadata": {
        "trusted": true
      },
      "execution_count": 17,
      "outputs": [
        {
          "execution_count": 17,
          "output_type": "execute_result",
          "data": {
            "text/plain": "                                                               Activity unit  \\\n2018 N   Administrative and Support Services h_200+                        0   \n                                             h_200+                        0   \n                                             h_200+                        0   \n                                             i_Industry_Total              1   \n                                             i_Industry_Total              0   \n...                                                                      ...   \n2021 all All Industries                      j_Grand_Total                 0   \n                                             j_Grand_Total                 0   \n                                             j_Grand_Total                 0   \n                                             j_Grand_Total                 0   \n                                             j_Grand_Total                 0   \n\n                                                               Fixed tangible assets  \\\n2018 N   Administrative and Support Services h_200+                                0   \n                                             h_200+                                0   \n                                             h_200+                                1   \n                                             i_Industry_Total                      0   \n                                             i_Industry_Total                      0   \n...                                                                              ...   \n2021 all All Industries                      j_Grand_Total                         0   \n                                             j_Grand_Total                         0   \n                                             j_Grand_Total                         0   \n                                             j_Grand_Total                         0   \n                                             j_Grand_Total                         1   \n\n                                                               Operating profit before tax  \\\n2018 N   Administrative and Support Services h_200+                                      1   \n                                             h_200+                                      0   \n                                             h_200+                                      0   \n                                             i_Industry_Total                            0   \n                                             i_Industry_Total                            0   \n...                                                                                    ...   \n2021 all All Industries                      j_Grand_Total                               0   \n                                             j_Grand_Total                               0   \n                                             j_Grand_Total                               1   \n                                             j_Grand_Total                               0   \n                                             j_Grand_Total                               0   \n\n                                                               Rolling mean employees  \\\n2018 N   Administrative and Support Services h_200+                                 0   \n                                             h_200+                                 0   \n                                             h_200+                                 0   \n                                             i_Industry_Total                       0   \n                                             i_Industry_Total                       1   \n...                                                                               ...   \n2021 all All Industries                      j_Grand_Total                          0   \n                                             j_Grand_Total                          0   \n                                             j_Grand_Total                          0   \n                                             j_Grand_Total                          0   \n                                             j_Grand_Total                          0   \n\n                                                               Salaries and wages paid  \\\n2018 N   Administrative and Support Services h_200+                                  0   \n                                             h_200+                                  0   \n                                             h_200+                                  0   \n                                             i_Industry_Total                        0   \n                                             i_Industry_Total                        0   \n...                                                                                ...   \n2021 all All Industries                      j_Grand_Total                           0   \n                                             j_Grand_Total                           0   \n                                             j_Grand_Total                           0   \n                                             j_Grand_Total                           0   \n                                             j_Grand_Total                           0   \n\n                                                               Sales, government funding, grants and subsidies  \\\n2018 N   Administrative and Support Services h_200+                                                          0   \n                                             h_200+                                                          0   \n                                             h_200+                                                          0   \n                                             i_Industry_Total                                                0   \n                                             i_Industry_Total                                                0   \n...                                                                                                        ...   \n2021 all All Industries                      j_Grand_Total                                                   0   \n                                             j_Grand_Total                                                   0   \n                                             j_Grand_Total                                                   0   \n                                             j_Grand_Total                                                   0   \n                                             j_Grand_Total                                                   0   \n\n                                                               Total assets  \\\n2018 N   Administrative and Support Services h_200+                       0   \n                                             h_200+                       1   \n                                             h_200+                       0   \n                                             i_Industry_Total             0   \n                                             i_Industry_Total             0   \n...                                                                     ...   \n2021 all All Industries                      j_Grand_Total                0   \n                                             j_Grand_Total                0   \n                                             j_Grand_Total                0   \n                                             j_Grand_Total                1   \n                                             j_Grand_Total                0   \n\n                                                               Total expenditure  \\\n2018 N   Administrative and Support Services h_200+                            0   \n                                             h_200+                            0   \n                                             h_200+                            0   \n                                             i_Industry_Total                  0   \n                                             i_Industry_Total                  0   \n...                                                                          ...   \n2021 all All Industries                      j_Grand_Total                     0   \n                                             j_Grand_Total                     1   \n                                             j_Grand_Total                     0   \n                                             j_Grand_Total                     0   \n                                             j_Grand_Total                     0   \n\n                                                               Total income  \n2018 N   Administrative and Support Services h_200+                       0  \n                                             h_200+                       0  \n                                             h_200+                       0  \n                                             i_Industry_Total             0  \n                                             i_Industry_Total             0  \n...                                                                     ...  \n2021 all All Industries                      j_Grand_Total                1  \n                                             j_Grand_Total                0  \n                                             j_Grand_Total                0  \n                                             j_Grand_Total                0  \n                                             j_Grand_Total                0  \n\n[5070 rows x 9 columns]",
            "text/html": "<div>\n<style scoped>\n    .dataframe tbody tr th:only-of-type {\n        vertical-align: middle;\n    }\n\n    .dataframe tbody tr th {\n        vertical-align: top;\n    }\n\n    .dataframe thead th {\n        text-align: right;\n    }\n</style>\n<table border=\"1\" class=\"dataframe\">\n  <thead>\n    <tr style=\"text-align: right;\">\n      <th></th>\n      <th></th>\n      <th></th>\n      <th></th>\n      <th>Activity unit</th>\n      <th>Fixed tangible assets</th>\n      <th>Operating profit before tax</th>\n      <th>Rolling mean employees</th>\n      <th>Salaries and wages paid</th>\n      <th>Sales, government funding, grants and subsidies</th>\n      <th>Total assets</th>\n      <th>Total expenditure</th>\n      <th>Total income</th>\n    </tr>\n  </thead>\n  <tbody>\n    <tr>\n      <th rowspan=\"5\" valign=\"top\">2018</th>\n      <th rowspan=\"5\" valign=\"top\">N</th>\n      <th rowspan=\"5\" valign=\"top\">Administrative and Support Services</th>\n      <th>h_200+</th>\n      <td>0</td>\n      <td>0</td>\n      <td>1</td>\n      <td>0</td>\n      <td>0</td>\n      <td>0</td>\n      <td>0</td>\n      <td>0</td>\n      <td>0</td>\n    </tr>\n    <tr>\n      <th>h_200+</th>\n      <td>0</td>\n      <td>0</td>\n      <td>0</td>\n      <td>0</td>\n      <td>0</td>\n      <td>0</td>\n      <td>1</td>\n      <td>0</td>\n      <td>0</td>\n    </tr>\n    <tr>\n      <th>h_200+</th>\n      <td>0</td>\n      <td>1</td>\n      <td>0</td>\n      <td>0</td>\n      <td>0</td>\n      <td>0</td>\n      <td>0</td>\n      <td>0</td>\n      <td>0</td>\n    </tr>\n    <tr>\n      <th>i_Industry_Total</th>\n      <td>1</td>\n      <td>0</td>\n      <td>0</td>\n      <td>0</td>\n      <td>0</td>\n      <td>0</td>\n      <td>0</td>\n      <td>0</td>\n      <td>0</td>\n    </tr>\n    <tr>\n      <th>i_Industry_Total</th>\n      <td>0</td>\n      <td>0</td>\n      <td>0</td>\n      <td>1</td>\n      <td>0</td>\n      <td>0</td>\n      <td>0</td>\n      <td>0</td>\n      <td>0</td>\n    </tr>\n    <tr>\n      <th>...</th>\n      <th>...</th>\n      <th>...</th>\n      <th>...</th>\n      <td>...</td>\n      <td>...</td>\n      <td>...</td>\n      <td>...</td>\n      <td>...</td>\n      <td>...</td>\n      <td>...</td>\n      <td>...</td>\n      <td>...</td>\n    </tr>\n    <tr>\n      <th rowspan=\"5\" valign=\"top\">2021</th>\n      <th rowspan=\"5\" valign=\"top\">all</th>\n      <th rowspan=\"5\" valign=\"top\">All Industries</th>\n      <th>j_Grand_Total</th>\n      <td>0</td>\n      <td>0</td>\n      <td>0</td>\n      <td>0</td>\n      <td>0</td>\n      <td>0</td>\n      <td>0</td>\n      <td>0</td>\n      <td>1</td>\n    </tr>\n    <tr>\n      <th>j_Grand_Total</th>\n      <td>0</td>\n      <td>0</td>\n      <td>0</td>\n      <td>0</td>\n      <td>0</td>\n      <td>0</td>\n      <td>0</td>\n      <td>1</td>\n      <td>0</td>\n    </tr>\n    <tr>\n      <th>j_Grand_Total</th>\n      <td>0</td>\n      <td>0</td>\n      <td>1</td>\n      <td>0</td>\n      <td>0</td>\n      <td>0</td>\n      <td>0</td>\n      <td>0</td>\n      <td>0</td>\n    </tr>\n    <tr>\n      <th>j_Grand_Total</th>\n      <td>0</td>\n      <td>0</td>\n      <td>0</td>\n      <td>0</td>\n      <td>0</td>\n      <td>0</td>\n      <td>1</td>\n      <td>0</td>\n      <td>0</td>\n    </tr>\n    <tr>\n      <th>j_Grand_Total</th>\n      <td>0</td>\n      <td>1</td>\n      <td>0</td>\n      <td>0</td>\n      <td>0</td>\n      <td>0</td>\n      <td>0</td>\n      <td>0</td>\n      <td>0</td>\n    </tr>\n  </tbody>\n</table>\n<p>5070 rows × 9 columns</p>\n</div>"
          },
          "metadata": {}
        }
      ]
    },
    {
      "cell_type": "code",
      "source": "data2=pd.concat((data1,dummy),axis=1)",
      "metadata": {
        "trusted": true
      },
      "execution_count": 18,
      "outputs": []
    },
    {
      "cell_type": "code",
      "source": "data2=data2.drop(['All'],axis=1)",
      "metadata": {
        "trusted": true
      },
      "execution_count": 19,
      "outputs": [
        {
          "ename": "<class 'KeyError'>",
          "evalue": "\"['All'] not found in axis\"",
          "traceback": [
            "\u001b[0;31m---------------------------------------------------------------------------\u001b[0m",
            "\u001b[0;31mKeyError\u001b[0m                                  Traceback (most recent call last)",
            "Cell \u001b[0;32mIn [19], line 1\u001b[0m\n\u001b[0;32m----> 1\u001b[0m data2\u001b[38;5;241m=\u001b[39m\u001b[43mdata2\u001b[49m\u001b[38;5;241;43m.\u001b[39;49m\u001b[43mdrop\u001b[49m\u001b[43m(\u001b[49m\u001b[43m[\u001b[49m\u001b[38;5;124;43m'\u001b[39;49m\u001b[38;5;124;43mAll\u001b[39;49m\u001b[38;5;124;43m'\u001b[39;49m\u001b[43m]\u001b[49m\u001b[43m,\u001b[49m\u001b[43maxis\u001b[49m\u001b[38;5;241;43m=\u001b[39;49m\u001b[38;5;241;43m1\u001b[39;49m\u001b[43m)\u001b[49m\n",
            "File \u001b[0;32m/lib/python3.10/site-packages/pandas/util/_decorators.py:311\u001b[0m, in \u001b[0;36mdeprecate_nonkeyword_arguments.<locals>.decorate.<locals>.wrapper\u001b[0;34m(*args, **kwargs)\u001b[0m\n\u001b[1;32m    305\u001b[0m \u001b[38;5;28;01mif\u001b[39;00m \u001b[38;5;28mlen\u001b[39m(args) \u001b[38;5;241m>\u001b[39m num_allow_args:\n\u001b[1;32m    306\u001b[0m     warnings\u001b[38;5;241m.\u001b[39mwarn(\n\u001b[1;32m    307\u001b[0m         msg\u001b[38;5;241m.\u001b[39mformat(arguments\u001b[38;5;241m=\u001b[39marguments),\n\u001b[1;32m    308\u001b[0m         \u001b[38;5;167;01mFutureWarning\u001b[39;00m,\n\u001b[1;32m    309\u001b[0m         stacklevel\u001b[38;5;241m=\u001b[39mstacklevel,\n\u001b[1;32m    310\u001b[0m     )\n\u001b[0;32m--> 311\u001b[0m \u001b[38;5;28;01mreturn\u001b[39;00m func(\u001b[38;5;241m*\u001b[39margs, \u001b[38;5;241m*\u001b[39m\u001b[38;5;241m*\u001b[39mkwargs)\n",
            "File \u001b[0;32m/lib/python3.10/site-packages/pandas/core/frame.py:4954\u001b[0m, in \u001b[0;36mDataFrame.drop\u001b[0;34m(self, labels, axis, index, columns, level, inplace, errors)\u001b[0m\n\u001b[1;32m   4806\u001b[0m \u001b[38;5;129m@deprecate_nonkeyword_arguments\u001b[39m(version\u001b[38;5;241m=\u001b[39m\u001b[38;5;28;01mNone\u001b[39;00m, allowed_args\u001b[38;5;241m=\u001b[39m[\u001b[38;5;124m\"\u001b[39m\u001b[38;5;124mself\u001b[39m\u001b[38;5;124m\"\u001b[39m, \u001b[38;5;124m\"\u001b[39m\u001b[38;5;124mlabels\u001b[39m\u001b[38;5;124m\"\u001b[39m])\n\u001b[1;32m   4807\u001b[0m \u001b[38;5;28;01mdef\u001b[39;00m \u001b[38;5;21mdrop\u001b[39m(\n\u001b[1;32m   4808\u001b[0m     \u001b[38;5;28mself\u001b[39m,\n\u001b[0;32m   (...)\u001b[0m\n\u001b[1;32m   4815\u001b[0m     errors: \u001b[38;5;28mstr\u001b[39m \u001b[38;5;241m=\u001b[39m \u001b[38;5;124m\"\u001b[39m\u001b[38;5;124mraise\u001b[39m\u001b[38;5;124m\"\u001b[39m,\n\u001b[1;32m   4816\u001b[0m ):\n\u001b[1;32m   4817\u001b[0m     \u001b[38;5;124;03m\"\"\"\u001b[39;00m\n\u001b[1;32m   4818\u001b[0m \u001b[38;5;124;03m    Drop specified labels from rows or columns.\u001b[39;00m\n\u001b[1;32m   4819\u001b[0m \n\u001b[0;32m   (...)\u001b[0m\n\u001b[1;32m   4952\u001b[0m \u001b[38;5;124;03m            weight  1.0     0.8\u001b[39;00m\n\u001b[1;32m   4953\u001b[0m \u001b[38;5;124;03m    \"\"\"\u001b[39;00m\n\u001b[0;32m-> 4954\u001b[0m     \u001b[38;5;28;01mreturn\u001b[39;00m \u001b[38;5;28;43msuper\u001b[39;49m\u001b[43m(\u001b[49m\u001b[43m)\u001b[49m\u001b[38;5;241;43m.\u001b[39;49m\u001b[43mdrop\u001b[49m\u001b[43m(\u001b[49m\n\u001b[1;32m   4955\u001b[0m \u001b[43m        \u001b[49m\u001b[43mlabels\u001b[49m\u001b[38;5;241;43m=\u001b[39;49m\u001b[43mlabels\u001b[49m\u001b[43m,\u001b[49m\n\u001b[1;32m   4956\u001b[0m \u001b[43m        \u001b[49m\u001b[43maxis\u001b[49m\u001b[38;5;241;43m=\u001b[39;49m\u001b[43maxis\u001b[49m\u001b[43m,\u001b[49m\n\u001b[1;32m   4957\u001b[0m \u001b[43m        \u001b[49m\u001b[43mindex\u001b[49m\u001b[38;5;241;43m=\u001b[39;49m\u001b[43mindex\u001b[49m\u001b[43m,\u001b[49m\n\u001b[1;32m   4958\u001b[0m \u001b[43m        \u001b[49m\u001b[43mcolumns\u001b[49m\u001b[38;5;241;43m=\u001b[39;49m\u001b[43mcolumns\u001b[49m\u001b[43m,\u001b[49m\n\u001b[1;32m   4959\u001b[0m \u001b[43m        \u001b[49m\u001b[43mlevel\u001b[49m\u001b[38;5;241;43m=\u001b[39;49m\u001b[43mlevel\u001b[49m\u001b[43m,\u001b[49m\n\u001b[1;32m   4960\u001b[0m \u001b[43m        \u001b[49m\u001b[43minplace\u001b[49m\u001b[38;5;241;43m=\u001b[39;49m\u001b[43minplace\u001b[49m\u001b[43m,\u001b[49m\n\u001b[1;32m   4961\u001b[0m \u001b[43m        \u001b[49m\u001b[43merrors\u001b[49m\u001b[38;5;241;43m=\u001b[39;49m\u001b[43merrors\u001b[49m\u001b[43m,\u001b[49m\n\u001b[1;32m   4962\u001b[0m \u001b[43m    \u001b[49m\u001b[43m)\u001b[49m\n",
            "File \u001b[0;32m/lib/python3.10/site-packages/pandas/core/generic.py:4267\u001b[0m, in \u001b[0;36mNDFrame.drop\u001b[0;34m(self, labels, axis, index, columns, level, inplace, errors)\u001b[0m\n\u001b[1;32m   4265\u001b[0m \u001b[38;5;28;01mfor\u001b[39;00m axis, labels \u001b[38;5;129;01min\u001b[39;00m axes\u001b[38;5;241m.\u001b[39mitems():\n\u001b[1;32m   4266\u001b[0m     \u001b[38;5;28;01mif\u001b[39;00m labels \u001b[38;5;129;01mis\u001b[39;00m \u001b[38;5;129;01mnot\u001b[39;00m \u001b[38;5;28;01mNone\u001b[39;00m:\n\u001b[0;32m-> 4267\u001b[0m         obj \u001b[38;5;241m=\u001b[39m \u001b[43mobj\u001b[49m\u001b[38;5;241;43m.\u001b[39;49m\u001b[43m_drop_axis\u001b[49m\u001b[43m(\u001b[49m\u001b[43mlabels\u001b[49m\u001b[43m,\u001b[49m\u001b[43m \u001b[49m\u001b[43maxis\u001b[49m\u001b[43m,\u001b[49m\u001b[43m \u001b[49m\u001b[43mlevel\u001b[49m\u001b[38;5;241;43m=\u001b[39;49m\u001b[43mlevel\u001b[49m\u001b[43m,\u001b[49m\u001b[43m \u001b[49m\u001b[43merrors\u001b[49m\u001b[38;5;241;43m=\u001b[39;49m\u001b[43merrors\u001b[49m\u001b[43m)\u001b[49m\n\u001b[1;32m   4269\u001b[0m \u001b[38;5;28;01mif\u001b[39;00m inplace:\n\u001b[1;32m   4270\u001b[0m     \u001b[38;5;28mself\u001b[39m\u001b[38;5;241m.\u001b[39m_update_inplace(obj)\n",
            "File \u001b[0;32m/lib/python3.10/site-packages/pandas/core/generic.py:4311\u001b[0m, in \u001b[0;36mNDFrame._drop_axis\u001b[0;34m(self, labels, axis, level, errors, consolidate, only_slice)\u001b[0m\n\u001b[1;32m   4309\u001b[0m         new_axis \u001b[38;5;241m=\u001b[39m axis\u001b[38;5;241m.\u001b[39mdrop(labels, level\u001b[38;5;241m=\u001b[39mlevel, errors\u001b[38;5;241m=\u001b[39merrors)\n\u001b[1;32m   4310\u001b[0m     \u001b[38;5;28;01melse\u001b[39;00m:\n\u001b[0;32m-> 4311\u001b[0m         new_axis \u001b[38;5;241m=\u001b[39m \u001b[43maxis\u001b[49m\u001b[38;5;241;43m.\u001b[39;49m\u001b[43mdrop\u001b[49m\u001b[43m(\u001b[49m\u001b[43mlabels\u001b[49m\u001b[43m,\u001b[49m\u001b[43m \u001b[49m\u001b[43merrors\u001b[49m\u001b[38;5;241;43m=\u001b[39;49m\u001b[43merrors\u001b[49m\u001b[43m)\u001b[49m\n\u001b[1;32m   4312\u001b[0m     indexer \u001b[38;5;241m=\u001b[39m axis\u001b[38;5;241m.\u001b[39mget_indexer(new_axis)\n\u001b[1;32m   4314\u001b[0m \u001b[38;5;66;03m# Case for non-unique axis\u001b[39;00m\n\u001b[1;32m   4315\u001b[0m \u001b[38;5;28;01melse\u001b[39;00m:\n",
            "File \u001b[0;32m/lib/python3.10/site-packages/pandas/core/indexes/base.py:6644\u001b[0m, in \u001b[0;36mIndex.drop\u001b[0;34m(self, labels, errors)\u001b[0m\n\u001b[1;32m   6642\u001b[0m \u001b[38;5;28;01mif\u001b[39;00m mask\u001b[38;5;241m.\u001b[39many():\n\u001b[1;32m   6643\u001b[0m     \u001b[38;5;28;01mif\u001b[39;00m errors \u001b[38;5;241m!=\u001b[39m \u001b[38;5;124m\"\u001b[39m\u001b[38;5;124mignore\u001b[39m\u001b[38;5;124m\"\u001b[39m:\n\u001b[0;32m-> 6644\u001b[0m         \u001b[38;5;28;01mraise\u001b[39;00m \u001b[38;5;167;01mKeyError\u001b[39;00m(\u001b[38;5;124mf\u001b[39m\u001b[38;5;124m\"\u001b[39m\u001b[38;5;132;01m{\u001b[39;00m\u001b[38;5;28mlist\u001b[39m(labels[mask])\u001b[38;5;132;01m}\u001b[39;00m\u001b[38;5;124m not found in axis\u001b[39m\u001b[38;5;124m\"\u001b[39m)\n\u001b[1;32m   6645\u001b[0m     indexer \u001b[38;5;241m=\u001b[39m indexer[\u001b[38;5;241m~\u001b[39mmask]\n\u001b[1;32m   6646\u001b[0m \u001b[38;5;28;01mreturn\u001b[39;00m \u001b[38;5;28mself\u001b[39m\u001b[38;5;241m.\u001b[39mdelete(indexer)\n",
            "\u001b[0;31mKeyError\u001b[0m: \"['All'] not found in axis\""
          ],
          "output_type": "error"
        }
      ]
    },
    {
      "cell_type": "code",
      "source": "data2=data2.drop(['diture'],axis=1)",
      "metadata": {
        "trusted": true
      },
      "execution_count": 20,
      "outputs": []
    },
    {
      "cell_type": "code",
      "source": "data2.head()",
      "metadata": {
        "trusted": true
      },
      "execution_count": 21,
      "outputs": [
        {
          "execution_count": 21,
          "output_type": "execute_result",
          "data": {
            "text/plain": "                                                               3582  \\\n2018 N Administrative and Support Services h_200+               227   \n                                           h_200+              2162   \n                                           h_200+               847   \n                                           i_Industry_Total   18012   \n                                           i_Industry_Total  119028   \n\n                                                             DOLLARS(millions)  \\\n2018 N Administrative and Support Services h_200+            DOLLARS(millions)   \n                                           h_200+            DOLLARS(millions)   \n                                           h_200+            DOLLARS(millions)   \n                                           i_Industry_Total              COUNT   \n                                           i_Industry_Total              COUNT   \n\n                                                             Activity unit  \\\n2018 N Administrative and Support Services h_200+                        0   \n                                           h_200+                        0   \n                                           h_200+                        0   \n                                           i_Industry_Total              1   \n                                           i_Industry_Total              0   \n\n                                                             Fixed tangible assets  \\\n2018 N Administrative and Support Services h_200+                                0   \n                                           h_200+                                0   \n                                           h_200+                                1   \n                                           i_Industry_Total                      0   \n                                           i_Industry_Total                      0   \n\n                                                             Operating profit before tax  \\\n2018 N Administrative and Support Services h_200+                                      1   \n                                           h_200+                                      0   \n                                           h_200+                                      0   \n                                           i_Industry_Total                            0   \n                                           i_Industry_Total                            0   \n\n                                                             Rolling mean employees  \\\n2018 N Administrative and Support Services h_200+                                 0   \n                                           h_200+                                 0   \n                                           h_200+                                 0   \n                                           i_Industry_Total                       0   \n                                           i_Industry_Total                       1   \n\n                                                             Salaries and wages paid  \\\n2018 N Administrative and Support Services h_200+                                  0   \n                                           h_200+                                  0   \n                                           h_200+                                  0   \n                                           i_Industry_Total                        0   \n                                           i_Industry_Total                        0   \n\n                                                             Sales, government funding, grants and subsidies  \\\n2018 N Administrative and Support Services h_200+                                                          0   \n                                           h_200+                                                          0   \n                                           h_200+                                                          0   \n                                           i_Industry_Total                                                0   \n                                           i_Industry_Total                                                0   \n\n                                                             Total assets  \\\n2018 N Administrative and Support Services h_200+                       0   \n                                           h_200+                       1   \n                                           h_200+                       0   \n                                           i_Industry_Total             0   \n                                           i_Industry_Total             0   \n\n                                                             Total expenditure  \\\n2018 N Administrative and Support Services h_200+                            0   \n                                           h_200+                            0   \n                                           h_200+                            0   \n                                           i_Industry_Total                  0   \n                                           i_Industry_Total                  0   \n\n                                                             Total income  \n2018 N Administrative and Support Services h_200+                       0  \n                                           h_200+                       0  \n                                           h_200+                       0  \n                                           i_Industry_Total             0  \n                                           i_Industry_Total             0  ",
            "text/html": "<div>\n<style scoped>\n    .dataframe tbody tr th:only-of-type {\n        vertical-align: middle;\n    }\n\n    .dataframe tbody tr th {\n        vertical-align: top;\n    }\n\n    .dataframe thead th {\n        text-align: right;\n    }\n</style>\n<table border=\"1\" class=\"dataframe\">\n  <thead>\n    <tr style=\"text-align: right;\">\n      <th></th>\n      <th></th>\n      <th></th>\n      <th></th>\n      <th>3582</th>\n      <th>DOLLARS(millions)</th>\n      <th>Activity unit</th>\n      <th>Fixed tangible assets</th>\n      <th>Operating profit before tax</th>\n      <th>Rolling mean employees</th>\n      <th>Salaries and wages paid</th>\n      <th>Sales, government funding, grants and subsidies</th>\n      <th>Total assets</th>\n      <th>Total expenditure</th>\n      <th>Total income</th>\n    </tr>\n  </thead>\n  <tbody>\n    <tr>\n      <th rowspan=\"5\" valign=\"top\">2018</th>\n      <th rowspan=\"5\" valign=\"top\">N</th>\n      <th rowspan=\"5\" valign=\"top\">Administrative and Support Services</th>\n      <th>h_200+</th>\n      <td>227</td>\n      <td>DOLLARS(millions)</td>\n      <td>0</td>\n      <td>0</td>\n      <td>1</td>\n      <td>0</td>\n      <td>0</td>\n      <td>0</td>\n      <td>0</td>\n      <td>0</td>\n      <td>0</td>\n    </tr>\n    <tr>\n      <th>h_200+</th>\n      <td>2162</td>\n      <td>DOLLARS(millions)</td>\n      <td>0</td>\n      <td>0</td>\n      <td>0</td>\n      <td>0</td>\n      <td>0</td>\n      <td>0</td>\n      <td>1</td>\n      <td>0</td>\n      <td>0</td>\n    </tr>\n    <tr>\n      <th>h_200+</th>\n      <td>847</td>\n      <td>DOLLARS(millions)</td>\n      <td>0</td>\n      <td>1</td>\n      <td>0</td>\n      <td>0</td>\n      <td>0</td>\n      <td>0</td>\n      <td>0</td>\n      <td>0</td>\n      <td>0</td>\n    </tr>\n    <tr>\n      <th>i_Industry_Total</th>\n      <td>18012</td>\n      <td>COUNT</td>\n      <td>1</td>\n      <td>0</td>\n      <td>0</td>\n      <td>0</td>\n      <td>0</td>\n      <td>0</td>\n      <td>0</td>\n      <td>0</td>\n      <td>0</td>\n    </tr>\n    <tr>\n      <th>i_Industry_Total</th>\n      <td>119028</td>\n      <td>COUNT</td>\n      <td>0</td>\n      <td>0</td>\n      <td>0</td>\n      <td>1</td>\n      <td>0</td>\n      <td>0</td>\n      <td>0</td>\n      <td>0</td>\n      <td>0</td>\n    </tr>\n  </tbody>\n</table>\n</div>"
          },
          "metadata": {}
        }
      ]
    },
    {
      "cell_type": "code",
      "source": "",
      "metadata": {},
      "execution_count": null,
      "outputs": []
    }
  ]
}